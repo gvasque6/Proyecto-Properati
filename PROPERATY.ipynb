{
 "cells": [
  {
   "cell_type": "markdown",
   "metadata": {
    "id": "zsdoaH4yGbvo"
   },
   "source": [
    "*Estudiante: Giselle andrea vásquez López*\n",
    "\n"
   ]
  },
  {
   "cell_type": "markdown",
   "metadata": {
    "id": "erTz7ZM36n44"
   },
   "source": [
    "# Proyecto: Análisis de mercado inmobiliario\n",
    "\n"
   ]
  },
  {
   "cell_type": "markdown",
   "metadata": {
    "id": "6If7DNp2_IdY"
   },
   "source": [
    "¡Bienvenido/a al primer proyecto de la carrera de Data Science de Acamica! \n",
    "\n",
    "El objetivo de este proyecto es reproducir los pasos que haría un/a Data Scientist cuando se enfrenta a una problemática real. Por eso, consta de tres secciones:\n",
    "* En la Parte 1, te presentamos la problemática sobre la cual vas a trabajar. En esta sección deberás decidir qué datos te ayudarán a trabajar en este problema y dónde puedes conseguirlos.\n",
    "* En la Parte 2 te proveemos de un dataset para abordar la problemática planteada. Deberás realizar un Análisis Exploratorio de Datos sobre este dataset.\n",
    "* En la Parte 3, deberás utilizar herramientas de Machine Learning para predecir la variable de interés.\n",
    "\n",
    "\n",
    "En este proyecto vas a trabajar con un dataset de propiedades en venta publicado en el portal [Properati](www.properati.com.ar).\n",
    "\n",
    "**Importante:** recuerda que un notebook es un informe, por lo que debes ir explicando lo que haces a medida que resuelves las consignas. Es importante que quien que lo lea entienda el flujo de trabajo, qué quisiste hacer. Recuerda, simple y conciso es una combinación ganadora. \n",
    "\n",
    "## Problema\n",
    "\n",
    "Recientemente te has incorporado al equipo de Datos de una gran inmobiliaria. La primera tarea que se te asigna es ayudar a los tasadores/as a valuar las propiedades, ya que es un proceso difícil y, a veces, subjetivo. Para ello, propones crear un modelo de Machine Learning que, dadas ciertas características de la propiedad, prediga su precio de venta.\n",
    "\n",
    "### 1. Pensando como un/a Data Scientist\n",
    "\n",
    "Responde la siguientes pregunta:\n",
    "1. ¿Qué datos crees que te ayudarían a trabajar en el problema?¿Por qué?\n",
    "\n",
    "**Importante**: NO deberás buscar esos datos, solamente justificar qué información crees que te ayudaría a resolver la problemática planteada."
   ]
  },
  {
   "cell_type": "markdown",
   "metadata": {
    "id": "gv8hjZrY6qUl"
   },
   "source": [
    "Los avalúos para las viviendas es uno de los procesos más complejos que se desarrollan a la hora de vender o alquilar una propiedad, ya que influyen muchos aspectos. Considero que los datos que me ayudarían son:\n",
    "\n",
    "**1.** Localidad de la propiedad: es comercial o residencial, estrato del sector y ubicación(se encuentra cerca a colegios, hospitales, centros comerciales, etc).\n",
    "\n",
    "**2.** Tipo de vivienda: apartamento, casa, lote, entre otros. \n",
    "\n",
    "**3.** Características del inmueble: ¿Es nuevo o es usado?, esta pregunta es importante ya que los inmuebles nuevos tienden a tener un valor más alto en el mercado o si es usado cuantos años la construcción. \n",
    "\n",
    "**4.** Área total. \n",
    "\n",
    "**5.** Estado físico del inmueble: se encuentra renovado, con que tipo de acabados cuenta, entre otros. \n",
    "\n",
    "**6.** Extras: Que tipo de extras tiene, por ejemplo cuenta con garaje, cuarto útil o se encuentra en una zona cerrada con seguridad.\n",
    "\n",
    "**7.** Avalúo catastral: Valor del predio determinado por la unidad administrativa especial de catastro.\n",
    "\n",
    "\n",
    "Es muy importante tener en cuenta todas las variables y colocar un precio acertado al inmueble, ya que si no será difícil su venta o alquiler o tomará más tiempo del necesario. "
   ]
  },
  {
   "cell_type": "markdown",
   "metadata": {
    "id": "KsXjB0FV65ty"
   },
   "source": [
    "---\n",
    "\n",
    "<br />\n",
    "<br />\n",
    "\n",
    "# SECCIÓN 1: Exploración datos.\n",
    "<br />\n",
    "<br />\n",
    "\n",
    "---"
   ]
  },
  {
   "cell_type": "markdown",
   "metadata": {
    "id": "mMN5ZZMq6_ev"
   },
   "source": [
    "### 2. Análisis Exploratorio de Datos\n",
    "\n",
    "En esta sección, debes realizar un Análisis Exploratorio de Datos sobre el dataset de propiedades de Properati. Es importante que respondas las siguientes preguntas durante el análisis:\n",
    "\n",
    "* ¿Qué tamaño tiene el dataset?¿Cuántas instancias y cuántas columnas?\n",
    "* ¿Cuántos valores faltantes hay en cada columna?\n",
    "* ¿Cómo es la distribución de cada variable? Deberás hacer histogramas para las variables numéricas y gráficos de barras para las variables categóricas.\n",
    "* ¿Cómo se relacionan las variables entre sí?¿Qué tipo de gráfico será conveniente para presentar esta información?\n",
    "* ¿Cómo están correlacionadas las variables numéricas?¿Qué tipo de gráfico será conveniente para presentar esta información?¿Cuáles serán los mejores predictores de la variable de interés?\n",
    "\n",
    "Vas a encontrar instrucciones para responder estas preguntas. Es importante aclarar que estas instrucciones corresponden al **mínimo entregable** que esperamos en la consigna.\n",
    "\n",
    "**Comentarios sobre el dataset** \n",
    "1. Nosotros ya hicimos un *curado* sobre el dataset que puedes descargar directamente de la página de Properati. Muchos de los pasos que hicimos para curar el conjunto de datos los veremos durante el Bloque 2 de la carrera.\n",
    "\n",
    "2. Si tienes dudas sobre qué representa alguna de las columnas, puedes consultar [aquí](https://www.properati.com.ar/data/). Notarás que algunas columnas fueron descartadas.\n",
    "\n",
    "3. `Capital Federal` refiere a la Ciudad de Buenos Aires. `Bs.As. G.B.A. Zona Norte`, `Bs.As. G.B.A. Zona Sur` y `Bs.As. G.B.A. Zona Oeste` son regiones que conforman el [Gran Buenos Aires](https://es.wikipedia.org/wiki/Gran_Buenos_Aires), un conjunto de ciudades que rodean a la Ciudad de Buenos Aires."
   ]
  },
  {
   "cell_type": "markdown",
   "metadata": {
    "id": "6hHFW_aE7RJ_"
   },
   "source": [
    "**0.** Importa las librerías necesarias para trabajar en la consigna."
   ]
  },
  {
   "cell_type": "code",
   "execution_count": null,
   "metadata": {
    "id": "J9kWXjGW72-A"
   },
   "outputs": [],
   "source": [
    "import numpy as np\n",
    "import pandas as pd\n",
    "import matplotlib.pyplot as plt\n",
    "import seaborn as sns\n",
    "import missingno as msno\n",
    "import plotly.express as px"
   ]
  },
  {
   "cell_type": "markdown",
   "metadata": {
    "id": "meY-ZPyt7_bw"
   },
   "source": [
    "**1.** Carga el dataset usando las funcionalidades de Pandas. "
   ]
  },
  {
   "cell_type": "code",
   "execution_count": null,
   "metadata": {
    "id": "Putppw04U0Gw"
   },
   "outputs": [],
   "source": [
    "data = pd.read_csv(r'data.csv')"
   ]
  },
  {
   "cell_type": "markdown",
   "metadata": {
    "id": "CW1sxslW8Dxn"
   },
   "source": [
    "**Explicación de cada uno de los datos obtenidos:**\n",
    "1. start_date - Fecha de alta del aviso.\n",
    "2. nd_date - Fecha de baja del aviso.\n",
    "3. created_on - Fecha de alta de la primera versión del aviso.\n",
    "4. lat - Latitud.\n",
    "5. lon - Longitud.\n",
    "6. l1 - Nivel administrativo 1: país.\n",
    "7. l2 - Nivel administrativo 2: usualmente provincia.\n",
    "8. l3 - Nivel administrativo 3: usualmente ciudad.\n",
    "9. rooms - Cantidad de ambientes (útil en Argentina).\n",
    "10. bedrooms - Cantidad de dormitorios (útil en el resto de los países).\n",
    "11. bathrooms - Cantidad de baños.\n",
    "12. surface_total - Superficie total en m².\n",
    "13. surface_covered - Superficie cubierta en m².\n",
    "14. price - Precio publicado en el anuncio.\n",
    "15. currency - Moneda del precio publicado.\n",
    "16. title - Título del anuncio.\n",
    "17. description - Descripción del anuncio.\n",
    "18. type - Tipo de propiedad (Casa, Departamento, PH).\n",
    "19. operation - Tipo de operación (Venta, Alquiler).\n"
   ]
  },
  {
   "cell_type": "markdown",
   "metadata": {
    "id": "HnF9qJqbcPuH"
   },
   "source": [
    "En primera instancia genero las funciones que usaré en la exploración de datos."
   ]
  },
  {
   "cell_type": "code",
   "execution_count": null,
   "metadata": {
    "id": "n1TPQnugcQ-P"
   },
   "outputs": [],
   "source": [
    "def porcentajes (data1):\n",
    "    cantidad= data[data1].value_counts()\n",
    "    porcentaje= round(data[data1].value_counts(normalize=True) * 100, 2)\n",
    "    data_percent = pd.DataFrame({ \"cantidad\": cantidad, \"porcentaje\": porcentaje})\n",
    "    print(data_percent)"
   ]
  },
  {
   "cell_type": "markdown",
   "metadata": {
    "id": "D6R4iXNYckhw"
   },
   "source": [
    "Imprimir cuántas filas y columnas tiene, y sus cinco primeras instancias."
   ]
  },
  {
   "cell_type": "code",
   "execution_count": null,
   "metadata": {
    "id": "ScvMbBSU8LM_"
   },
   "outputs": [],
   "source": [
    "#cuántas filas\n",
    "print('cantidad de filas son:', len(data.index))\n",
    "print('')\n",
    "\n",
    "#cuántas columnas\n",
    "print('cantidad de columnas son:',data.shape[1] )\n",
    "print('')\n",
    "\n",
    "#cuántas filas y columnas\n",
    "print('cantidad de filas y columnas son:', data.shape)"
   ]
  },
  {
   "cell_type": "code",
   "execution_count": null,
   "metadata": {
    "id": "V_lJ5plO8UnP"
   },
   "outputs": [],
   "source": [
    "#cinco primeras instancias\n",
    "print('Las cinco primera instancias son:' )\n",
    "data[:6]"
   ]
  },
  {
   "cell_type": "markdown",
   "metadata": {
    "id": "Mb_1Q48z8dX6"
   },
   "source": [
    "**2. Valores Faltantes:** Imprime en pantalla los nombres de las columnas y cuántos valores faltantes hay por columna."
   ]
  },
  {
   "cell_type": "code",
   "execution_count": null,
   "metadata": {
    "id": "0tdqRHMc8hRm"
   },
   "outputs": [],
   "source": [
    "print(' Valores faltantes en cantidad y porcentaje')\n",
    "cantidad = data.isnull().sum()\n",
    "porcentaje = round(data.isna().sum()/data.shape[0]*100)\n",
    "df_11 = pd.DataFrame({ \"cantidad\": cantidad, \"porcentaje\": porcentaje})\n",
    "print(df_11)"
   ]
  },
  {
   "cell_type": "code",
   "execution_count": null,
   "metadata": {
    "id": "GbSK5gWqz8iw"
   },
   "outputs": [],
   "source": [
    "msno.matrix(data)"
   ]
  },
  {
   "cell_type": "markdown",
   "metadata": {
    "id": "j53xLUzBz9QK"
   },
   "source": [
    "Por medio del mapa de calor podemos reafirmar que la información de faltantes está correcta, y se concentran en los datos de la superficie total y la superficie cubierta. Esta información es importante tenerla presente a la hora de realizar análisis. \n",
    "La columna de la derecha de nuestro grafico resume de forma general el grado de “completitud” de los datos, además nos enseña las filas con mayor y menor número de “missing values” de nuestra base de datos."
   ]
  },
  {
   "cell_type": "code",
   "execution_count": null,
   "metadata": {
    "id": "RzfmxJbr82xu"
   },
   "outputs": [],
   "source": [
    "print('Cantidad de datos duplicados:')\n",
    "duplicados = data.duplicated()\n",
    "duplicados.value_counts()"
   ]
  },
  {
   "cell_type": "markdown",
   "metadata": {
    "id": "aW_Ub3In4csM"
   },
   "source": [
    "En el dataset ( el cual posee 146.660 ingresos) encontramos 2.358 registros duplicados, lo cual es el 1.6% de todo el dataset. Aunque son pocos datos repetidos pueden generar una visión algo errónea a la hora de estudiar el comportamiento de los datos si estos son muy desproporcionados."
   ]
  },
  {
   "cell_type": "markdown",
   "metadata": {
    "id": "sQsS6gId89Nd"
   },
   "source": [
    "**3. Tipos de propiedad:** ¿Cuántos tipos de propiedad hay publicados según este dataset?¿Cuántos instancias por cada tipo de propiedad hay en el dataset? Responde esta pregunta usando las funcionalidad de Pandas y con un gráfico apropiado de Seaborn. **Pistas**: Te puede ser útil googlear cómo rotar las etiquetas del eje x."
   ]
  },
  {
   "cell_type": "code",
   "execution_count": null,
   "metadata": {
    "id": "z8Yg3gWB88eK"
   },
   "outputs": [],
   "source": [
    "print('Nombres de las propiedades:', data['property_type'].unique())\n",
    "print('')\n",
    "\n",
    "# ¿Cuántos tipos de propiedad hay publicados según este dataset?\n",
    "q= data['property_type'].unique()\n",
    "w= len(q)\n",
    "print('¿Cuántos tipos de propiedad hay publicados según este dataset?:', w )\n",
    "\n",
    "print('')\n",
    "\n",
    "#¿Cuántos instancias por cada tipo de propiedad hay en el dataset?\n",
    "print('¿Cuántas instancias por cada tipo de propiedad hay en el dataset?:')\n",
    "porcentajes ('property_type')"
   ]
  },
  {
   "cell_type": "markdown",
   "metadata": {
    "id": "JgqXpuPznm5W"
   },
   "source": [
    "Actualmente hay 3 tipos de propiedad que ocupan el 97.6% = Departamento, PH y Casa."
   ]
  },
  {
   "cell_type": "code",
   "execution_count": null,
   "metadata": {
    "id": "Kq4LhTQFVDqY"
   },
   "outputs": [],
   "source": [
    "max_min= data['property_type'].value_counts().index\n",
    "#Datos grafica:\n",
    "fig, ax = plt.subplots(figsize = (12,8))\n",
    "sns.countplot(y = 'property_type', data = data, palette='flare', order= max_min) #data\n",
    "plt.title('Tipo De Propiedades', size = 25, weight=600, pad = 70) \n",
    "plt.ylabel('Tipo de propiedad', size = 14, weight=600, labelpad=20) #titulo y\n",
    "ax.xaxis.set_ticks_position('top') #subir #s eje x\n",
    "ax.text(0.40, 1.08, 'Cantidad propiedades', transform=ax.transAxes, size=14, weight=600) #subir el nombre eje x\n",
    "ax.set_xlim(0, 120000)\n",
    "ax.set_xlabel('') "
   ]
  },
  {
   "cell_type": "markdown",
   "metadata": {
    "id": "avg78O3kVIne"
   },
   "source": [
    "**4. ¿De qué regiones son las publicaciones?** Haz gráficos de barras para las variables `l2` y `l3`. Si te animas, puedes hacer los dos gráficos usando `subplot` de Matplotlib. Dale un tamaño apropiado a la figura para que ambos gráficos se visualicen correctamente."
   ]
  },
  {
   "cell_type": "code",
   "execution_count": null,
   "metadata": {
    "id": "b4rwoOCpVL8n"
   },
   "outputs": [],
   "source": [
    "print('Las regiones de las cuales son las publicaciones son:')\n",
    "porcentajes ('l2')\n",
    "print('')\n",
    "print('')\n",
    "\n",
    "max_min_l2= data['l2'].value_counts().index\n",
    "#Datos grafica:\n",
    "plt.figure(figsize = (13,10))\n",
    "plt.subplot(2,1,1)\n",
    "sns.countplot(x = 'l2', data = data, palette=\"flare\", order= max_min_l2) #data\n",
    "plt.title('Tipo de Propiedades por regiones', size = 25, weight=600, pad = 30) \n",
    "plt.ylabel('cantidad de propiedades', size = 14, weight=600, labelpad=20) \n",
    "plt.xlabel('Regiones', size = 14, weight=600, labelpad=20)"
   ]
  },
  {
   "cell_type": "markdown",
   "metadata": {
    "id": "BgNLlRS-o6KP"
   },
   "source": [
    "Capital Federal ocupa más del 50% de los registros."
   ]
  },
  {
   "cell_type": "code",
   "execution_count": null,
   "metadata": {
    "id": "pYFQPVPAeSM-"
   },
   "outputs": [],
   "source": [
    "print('Las barrios de las cuales son las publicaciones son:')\n",
    "porcentajes ('l3')\n",
    "print('')\n",
    "print('')\n",
    "\n",
    "max_min_l3= data['l3'].value_counts().index\n",
    "#Datos grafica:\n",
    "plt.figure(figsize = (40,20))\n",
    "plt.subplot(2,1,1)\n",
    "sns.countplot(x = 'l3', data = data, palette='flare', order= max_min_l3) #data\n",
    "plt.title('Tipo de Propiedades por barrios', size = 30, weight=600, pad = 30) \n",
    "plt.ylabel('cantidad de propiedades', size = 14, weight=600, labelpad=20) \n",
    "plt.xticks(rotation= 90)\n",
    "plt.xlabel('Barrios', size = 14, weight=600, labelpad=20)"
   ]
  },
  {
   "cell_type": "markdown",
   "metadata": {
    "id": "Ajz1JRXrVZad"
   },
   "source": [
    "**5. Filtrando el Dataset:** A partir de los resultados del punto 3. y 4., selecciona las tres clases más abundantes de tipos de propiedad y la región con más propiedades publicadas. Crea un nuevo Data Frame con aquellas instancias que cumplen con esas condiciones e imprime su `shape`."
   ]
  },
  {
   "cell_type": "code",
   "execution_count": null,
   "metadata": {
    "id": "HLRvKcwQVezx"
   },
   "outputs": [],
   "source": [
    "propiedad=[\"Departamento\",\"PH\",\"Casa\"]\n",
    "regiones=[\"Capital Federal\"]\n",
    "nueva_data = data[data.property_type.isin(propiedad) & data.l2.isin(regiones)] \n",
    "print(\"Data shape:\", nueva_data.shape)"
   ]
  },
  {
   "cell_type": "markdown",
   "metadata": {
    "id": "AsrklNgxhbTV"
   },
   "source": [
    "como podemos observar obtuvimos un dataset con 91485 instacias y 19 columnas, como fue solicitado. \n"
   ]
  },
  {
   "cell_type": "code",
   "execution_count": null,
   "metadata": {
    "id": "rPuHiHahVfg0"
   },
   "outputs": [],
   "source": [
    "nueva_data.head()"
   ]
  },
  {
   "cell_type": "code",
   "execution_count": null,
   "metadata": {
    "id": "gg46RMED6F2Q"
   },
   "outputs": [],
   "source": [
    "fig = px.scatter_mapbox(nueva_data, lat=\"lat\", lon=\"lon\", color=\"property_type\", hover_data=['price'],hover_name=\"title\",animation_frame=\"l3\",zoom=10,title=\"Mapa de propiedades en venta\",)\n",
    "fig.update_layout(mapbox_style=\"open-street-map\")\n",
    "fig.show()"
   ]
  },
  {
   "cell_type": "code",
   "execution_count": null,
   "metadata": {
    "id": "0-OhngU_V_sr"
   },
   "outputs": [],
   "source": [
    "plt.figure(figsize = (10,5))\n",
    "sns.countplot(x='property_type', data = nueva_data, palette='flare')\n",
    "plt.xlabel('Tipo de propiedad', size = 13)\n",
    "plt.ylabel('Cantidad', size = 13)\n",
    "plt.title('Top 3 de propiedades a la venta en Capital Federal', size = 15, weight=600, pad = 30)\n",
    "plt.show()"
   ]
  },
  {
   "cell_type": "code",
   "execution_count": null,
   "metadata": {
    "id": "2XwJSD8igTKF"
   },
   "outputs": [],
   "source": [
    "pie = nueva_data['property_type'].value_counts()\n",
    "myexplode = [0.2, 0, 0]\n",
    "mycolors = ['#D47D6F', '#B1516E', '#7B3B6B']\n",
    "title = 'Top 3 de propiedades a la venta en Capital Federal'\n",
    "pie.plot.pie(subplots=True, figsize=(11, 6), autopct='%1.1f%%', explode = myexplode, colors = mycolors, ylabel='', title = title)"
   ]
  },
  {
   "cell_type": "markdown",
   "metadata": {
    "id": "omuWFcOhhv2l"
   },
   "source": [
    "Como podemos observar departamento es el inmueble que más se encuentra actualmente en venta con un total de 73.18% del total de inmuebles, si tomamos solo el top 3 encontramos que su porcentaje crece al 86.4%"
   ]
  },
  {
   "cell_type": "markdown",
   "metadata": {
    "id": "unCNUU5W9SAN"
   },
   "source": [
    "---\n",
    "\n",
    "<br />\n",
    "<br />\n",
    "\n",
    "# SECCIÓN 2: Distribuciones.\n",
    "<br />\n",
    "<br />\n",
    "\n",
    "---"
   ]
  },
  {
   "cell_type": "markdown",
   "metadata": {
    "id": "1zp7BtYK9pOD"
   },
   "source": [
    "**Distribuciones y relaciones de a pares:** Estudia la distribución y las relaciones de a pares de las variables `rooms`, `bedrooms`, `bathrooms`, `surface_total`, `surface_covered`, `price` para cada tipo de propiedad. Para ello, ten en cuenta:\n",
    "\n",
    "1. Obtiene estadísticos que te sirvan para tener una primera idea de los valores que abarcan estas variables. ¿Cuáles crees que toman valores que tal vez no tengan mucho sentido?\n",
    "\n",
    "2. Algunas instancias tienen valores de superficie (`surface_total`) muy grandes y dificultan la correcta visualización. Estudia la distribución de esa variable y filtra por un valor razonable que te permita obtener gráficos comprensibles. Puede ser útil un boxplot para determinar un rango razonable. Lo mismo ocurre con valores de superficie total muy chico. Las propiedades no pueden tener `surface_covered` mayor a `surface_total`. Si eso sucede, debes filtrar esas instancias.\n",
    "\n",
    "3. El rango de precios que toman las propiedades es muy amplio. Estudia la distribución de esa variable y filtra por un valor razonable que te permita obtener gráficos comprensibles. Puede ser útil un boxplot para determinar un rango razonable.\n",
    "\n",
    "4. Una vez filtrado el dataset, puedes utilizar la función `pairplot` de Seaborn."
   ]
  },
  {
   "cell_type": "markdown",
   "metadata": {
    "id": "7y11NR-DhfVL"
   },
   "source": [
    "Tomo el dataset que filtramos con las 3 propiedades más importantes que se encuentran exclusivamente en la Capital Federal. "
   ]
  },
  {
   "cell_type": "code",
   "execution_count": null,
   "metadata": {
    "id": "mhU0dZFxghmh"
   },
   "outputs": [],
   "source": [
    "# Creo una copia del dataframe:\n",
    "distri_data = nueva_data.copy()  "
   ]
  },
  {
   "cell_type": "markdown",
   "metadata": {
    "id": "fIX-N0QLgcBY"
   },
   "source": [
    "Importo las librerías adicionales que usaré en este punto."
   ]
  },
  {
   "cell_type": "code",
   "execution_count": null,
   "metadata": {
    "id": "rYQjECX_gskY"
   },
   "outputs": [],
   "source": [
    "import matplotlib.pyplot as plt"
   ]
  },
  {
   "cell_type": "code",
   "execution_count": null,
   "metadata": {
    "id": "3_tu2_EMgX-d"
   },
   "outputs": [],
   "source": [
    "plt.figure(figsize = (16,10))\n",
    "sns.pairplot(data = distri_data, hue = 'property_type')\n",
    "plt.show()"
   ]
  },
  {
   "cell_type": "code",
   "execution_count": null,
   "metadata": {
    "id": "91XqsSHlgmkF"
   },
   "outputs": [],
   "source": [
    "print('Descripción datos:')\n",
    "distri_data.describe()"
   ]
  },
  {
   "cell_type": "markdown",
   "metadata": {
    "id": "p2lI63hQgnIL"
   },
   "source": [
    " **¿Cuáles crees que toman valores que tal vez no tengan mucho sentido?**\n",
    " \n",
    "**1.Rooms:** Tenemos un valor máximo de 26 cuartos con 2 registros (31583, 111651), sin embargo es el mismo registro (la fecha de creación es la única información distinta). También encontramos errores ya que el mínimo es 0, lo cual no es posible. \n",
    "Revisando otros valores la media es de 2.9 y la desviación estandar de 1.3, entonces todos los datos en la muestra entre 4 y 1 representarán aproximadamente el 68% de la muestra de datos.\n",
    "\n",
    "\n",
    "**2. Bedrooms:** Tenemos una cantidad máxima de 15 bedrooms, con un total de 6 publicaciones (8843,31583, 34580, 44167, 69101, 111651), sin embargo una de las publicaciones esta registrada 3 veces (34580, 44167,69101), y otra 2(111651, 31583), por lo cual quedamos con solo 3 registros.\n",
    "\n",
    "\n",
    "**3. Bathrooms:** contamos con un valor máximo de 14 baños (tenemos 3 registros con esta cantidad (35960, 132709, 136930), pero dos son repetidos (132709, 136930)). El valor mínimo se encuentra cerca del promedio (valor mínimo = 1 baño y el promedio es 1.5 baños). \n",
    "Otro problema encontrado es que hay 2.171 registros menos que el total de registros.\n",
    "\n",
    "\n",
    "**4. surface_total**: el valor máximo se encuentra demasiado alejado de la media, al igual que el mínimo, lo que hace necesario filtrar la información para poder realizar un análisis confiable, ademas hace falta 8.917 registros y encontramos varios registros duplicados.\n",
    "\n",
    "\n",
    "\n",
    "**5. surface_covered:** Tenemos que el valor mínimo es de 1 metro cuadrado cubierto, pero a la hora de hacer una comparación con la superficie total en metros (surface_total) solo 3 registros tienen la información registrada y con valores bastante altos.\n",
    "\n",
    "Pro ejemplo el registro N°131428 (registro que se encuentra duplicado en la fila 108471) nos muestra una superficie total de 229 metros y solo 1 metro se encuentra cubierto. "
   ]
  },
  {
   "cell_type": "markdown",
   "metadata": {
    "id": "JdCF3-92hu_-"
   },
   "source": [
    "**2.** Algunas instancias tienen valores de superficie (surface_total) muy grandes y dificultan la correcta visualización. Estudia la distribución de esa variable y filtra por un valor razonable que te permita obtener gráficos comprensibles. Puede ser útil un boxplot para determinar un rango razonable."
   ]
  },
  {
   "cell_type": "markdown",
   "metadata": {
    "id": "nUALweHJiYqF"
   },
   "source": [
    "En primera instancia creo funciones que contengan las gráficas, de forma que no sea necesario repetir código. "
   ]
  },
  {
   "cell_type": "code",
   "execution_count": null,
   "metadata": {
    "id": "fmwOg5D2ih29"
   },
   "outputs": [],
   "source": [
    " def boxplots(quantile1,quantile2, data_2):\n",
    "    filtro_0= (distri_data[data_2].quantile(quantile1)<=distri_data[data_2]) & (distri_data[data_2]< distri_data[data_2].quantile(quantile2))\n",
    "    plt.figure(figsize = (15,5))\n",
    "    plt.subplot(2,1,1)\n",
    "    sns.boxplot(x= distri_data[data_2][filtro_0], palette='flare')\n",
    "    plt.xlabel(\"\")\n",
    "    plt.title(f'Distribución de la superficie total filtrando cuantil {quantile2}', weight=600, size = 25, pad = 20) "
   ]
  },
  {
   "cell_type": "markdown",
   "metadata": {
    "id": "EV5aeZxyxO4p"
   },
   "source": [
    "Primero voy a dar una mirada a la distribución de los datos, por medio de un boxplot."
   ]
  },
  {
   "cell_type": "code",
   "execution_count": null,
   "metadata": {
    "id": "JKrRYnWCxW44"
   },
   "outputs": [],
   "source": [
    "plt.figure(figsize = (15,5))\n",
    "sns.set_style(style='ticks')\n",
    "ax = sns.boxplot(x=distri_data[\"surface_total\"], palette='flare')\n",
    "plt.title('Distribución de superficie total', size = 25, weight=600, pad = 30) \n",
    "ax.set_xlabel('') "
   ]
  },
  {
   "cell_type": "markdown",
   "metadata": {
    "id": "Wx4gKoHl2cbH"
   },
   "source": [
    "En el boxplot de la superficie total podemos observar muchos outliers, los cuales son valores muy grandes que se alejan demasiado del promedio de los datos. \n",
    "El promedio de la superficie total es de 112.6 metros cuadrados, pero tenemos un dato de mas de 120.000 m2, lo que nos indica que posiblemente es información que fue ingresada de forma erronea.  "
   ]
  },
  {
   "cell_type": "markdown",
   "metadata": {
    "id": "ryaNH29jh3OA"
   },
   "source": [
    "Para comenzar el análisis se eliminan las siguientes columnas del dataframe:\n",
    "\n",
    "**1. currency:** solo toma un valor > USD.\n",
    "\n",
    "**2. title:** No será usado para el estudio.\n",
    "\n",
    "**3. description:** No será usado para el estudio.\n",
    "\n",
    "**4. l1:** solo toma un valor > Argentina.\n",
    "\n",
    "**5. start_date:** No será usado para el estudio.\n",
    "\n",
    "**6. end_date:** No será usado para el estudio.\n",
    "\n",
    " **7. operation_type:** solo toma un valor > Venta.\n",
    "\n",
    "**8. l2:** Solo tomaremos un valor 'Capital federal, por lo cual no es necesario tomarlo en el estudio. \n",
    "\n",
    "**9. created_on:** No será usado para el estudio."
   ]
  },
  {
   "cell_type": "code",
   "execution_count": null,
   "metadata": {
    "id": "ecAhyj8dh5eY"
   },
   "outputs": [],
   "source": [
    "distri_data.drop(['currency', 'title', 'description', 'l1','start_date', 'end_date', 'operation_type', 'l2', 'created_on', 'lat', 'lon' ],axis=1, inplace = True)"
   ]
  },
  {
   "cell_type": "markdown",
   "metadata": {
    "id": "Q13I9iEbiKUd"
   },
   "source": [
    "Continuo eliminando los datos duplicados."
   ]
  },
  {
   "cell_type": "code",
   "execution_count": null,
   "metadata": {
    "id": "lDs_upx4h95L"
   },
   "outputs": [],
   "source": [
    "'''\n",
    "Elimino los datos duplicados. Coloco inplace=True para que no me cree un nuevo dataframe.\n",
    "'''\n",
    "distri_data.drop_duplicates(inplace=True)"
   ]
  },
  {
   "cell_type": "markdown",
   "metadata": {
    "id": "xhZmkNh92zVk"
   },
   "source": [
    "Resviso si actualmente hay valores vacios o nulos. "
   ]
  },
  {
   "cell_type": "code",
   "execution_count": null,
   "metadata": {
    "id": "LBtypKdYiNmx"
   },
   "outputs": [],
   "source": [
    "distri_data.isnull().values.any()"
   ]
  },
  {
   "cell_type": "code",
   "execution_count": null,
   "metadata": {
    "id": "jBSaHbZTFflG"
   },
   "outputs": [],
   "source": [
    "#¿Cuántos valores perdidos totales tenemos?\n",
    "missing_values_count = distri_data.isnull().sum()\n",
    "total_cells = np.product(distri_data.shape)\n",
    "total_missing = missing_values_count.sum()\n",
    "\n",
    "# porcentaje de datos que faltan\n",
    "print('El porcentaje de valores vacios o nulos es')\n",
    "(total_missing/total_cells) * 100"
   ]
  },
  {
   "cell_type": "markdown",
   "metadata": {
    "id": "-IuoYt0F37Sx"
   },
   "source": [
    "Efectivamente contamos con valores nulos en nuestra base de datos, pero solo es el 3% de los datos. por lo cual decido dejarlos de la misma forma, ya que al eliminarlos se puede perder otra información valiosa.\n",
    " "
   ]
  },
  {
   "cell_type": "markdown",
   "metadata": {
    "id": "PPoF4aK3c3Vs"
   },
   "source": [
    "Ahora procedo a revisar los quantiles y elegir el que mejor filtre la información para seguirlo usando. "
   ]
  },
  {
   "cell_type": "code",
   "execution_count": null,
   "metadata": {
    "id": "f1J2-LMhc26k"
   },
   "outputs": [],
   "source": [
    "boxplots(0.01, 0.99, 'surface_total')\n",
    "boxplots(0.5, 0.95, 'surface_total')\n",
    "boxplots(0.10, 0.90, 'surface_total')"
   ]
  },
  {
   "cell_type": "markdown",
   "metadata": {
    "id": "ImwEUyj6d5ni"
   },
   "source": [
    "Tomo el cuantil 95, ya que quedo con una cantidad razonable de outliers y la convierto en una mascara."
   ]
  },
  {
   "cell_type": "code",
   "execution_count": null,
   "metadata": {
    "id": "Rln18hnce65z"
   },
   "outputs": [],
   "source": [
    "mask = distri_data['surface_total'] < distri_data['surface_total'].quantile(0.95)\n",
    "distri_data = distri_data[mask]"
   ]
  },
  {
   "cell_type": "markdown",
   "metadata": {
    "id": "36RhcO3jheGf"
   },
   "source": [
    "Ahora elimino los registros en los cuales la superficie cubierta sea mayor a la superfie total."
   ]
  },
  {
   "cell_type": "code",
   "execution_count": null,
   "metadata": {
    "id": "Xz8-D4snhm2V"
   },
   "outputs": [],
   "source": [
    "mask_1 = distri_data['surface_covered'] <= distri_data['surface_total']\n",
    "distri_data = distri_data[mask_1]"
   ]
  },
  {
   "cell_type": "code",
   "execution_count": null,
   "metadata": {
    "id": "MaqWyqGDuMwt"
   },
   "outputs": [],
   "source": [
    "sns.scatterplot(data=distri_data, x='surface_total', y='surface_covered')\n",
    "plt.grid()"
   ]
  },
  {
   "cell_type": "markdown",
   "metadata": {
    "id": "IdAcL_kquNzX"
   },
   "source": [
    "En la grafica podemos observar que todos los valores mayores fueron eliminados"
   ]
  },
  {
   "cell_type": "markdown",
   "metadata": {
    "id": "C6REfi0Eh0An"
   },
   "source": [
    "Ahora paso a revisar que no tengamos valores muy pequeños (10 mts2)."
   ]
  },
  {
   "cell_type": "code",
   "execution_count": null,
   "metadata": {
    "id": "XoKojAz_iA53"
   },
   "outputs": [],
   "source": [
    "distri_data.nsmallest(10, ['surface_total'])"
   ]
  },
  {
   "cell_type": "markdown",
   "metadata": {
    "id": "zzLk3YApiC-5"
   },
   "source": [
    "Como podemos observar no tenemos valores de 10mts2."
   ]
  },
  {
   "cell_type": "markdown",
   "metadata": {
    "id": "x0T5ZgdAidWm"
   },
   "source": [
    "**3.** El rango de precios que toman las propiedades es muy amplio. Estudia la distribución de esa variable y filtra por un valor razonable que te permita obtener gráficos comprensibles. Puede ser útil un boxplot para determinar un rango razonable."
   ]
  },
  {
   "cell_type": "code",
   "execution_count": null,
   "metadata": {
    "id": "JdDZ32BwihUX"
   },
   "outputs": [],
   "source": [
    "plt.figure(figsize = (15,5))\n",
    "sns.set_style(style='ticks')\n",
    "ax = sns.boxplot(x=distri_data[\"price\"])\n",
    "plt.title('Distribución Precio propiedades', size = 25, weight=600, pad = 30) \n",
    "ax.set_xlabel('')"
   ]
  },
  {
   "cell_type": "markdown",
   "metadata": {
    "id": "ksS6_kfxi31T"
   },
   "source": [
    "Procedo a revisar los cuantiles parael precio de las propiedades."
   ]
  },
  {
   "cell_type": "code",
   "execution_count": null,
   "metadata": {
    "id": "YGZWc5I0iqwH"
   },
   "outputs": [],
   "source": [
    "boxplots(0.01, 0.99, 'price')\n",
    "boxplots(0.5, 0.95, 'price')\n",
    "boxplots(0.10, 0.90, 'price')"
   ]
  },
  {
   "cell_type": "markdown",
   "metadata": {
    "id": "rObWBK0QjQTH"
   },
   "source": [
    "Elijo el cuantil 95 al igual que con la superficie total"
   ]
  },
  {
   "cell_type": "code",
   "execution_count": null,
   "metadata": {
    "id": "3aISzSp-i_F_"
   },
   "outputs": [],
   "source": [
    "mask_2= (distri_data['price'].quantile(0.05)<=distri_data['price']) & (distri_data['price']< distri_data['price'].quantile(0.95))\n",
    "distri_data = distri_data[mask_2]"
   ]
  },
  {
   "cell_type": "markdown",
   "metadata": {
    "id": "faaITaFm-cam"
   },
   "source": [
    "Resviso la diferencia entre el dataframe incial y el final."
   ]
  },
  {
   "cell_type": "code",
   "execution_count": null,
   "metadata": {
    "id": "6x-ZuZt7-cG9"
   },
   "outputs": [],
   "source": [
    "shape_1 = len(nueva_data.index)\n",
    "shape_2 = len(distri_data.index)\n",
    "shape_3 = shape_1 - shape_2\n",
    "print('Cantidad de registros en el dataframe inicial:', shape_1)\n",
    "print('Cantidad de registros en el dataframe final:',shape_2)\n",
    "print(f'la cantidad de valores que fueron recortados del dataframe incial es:', shape_3)"
   ]
  },
  {
   "cell_type": "markdown",
   "metadata": {
    "id": "fIJnDWER_Nvw"
   },
   "source": [
    "En total fueron recortados 50415 datos ( 44.8% )"
   ]
  },
  {
   "cell_type": "markdown",
   "metadata": {
    "id": "iMS4-JlZ8psm"
   },
   "source": [
    "Por último reviso si hay algunos valores extraños que tengamos. Para esto primero reviso el código de la edificación argentina y encontrar valores que no sean posibles tener. "
   ]
  },
  {
   "cell_type": "code",
   "execution_count": null,
   "metadata": {
    "id": "W1Nm2w2F8vG_"
   },
   "outputs": [],
   "source": [
    "distri_data.describe()"
   ]
  },
  {
   "cell_type": "markdown",
   "metadata": {
    "id": "w3vdOf2mS-WV"
   },
   "source": [
    "Como podemos ver tenemos un problema en la columna 'surface_covered' que pasaremos a revisar. Tenemos un mínimo de 1 lo cual no es posible. Es importante recordar que la legislación porteña aprobó, en 2018,  los nuevos códigos de habitabilidad, permitiendo la construcción de microambientes mínimos, desde 18 metros cuadrados, sin contar el baño. Hasta la reforma, impulsada por la gestión de Horacio Rodríguez Larreta, el tipo de unidad con sólo un ambiente debía tener por lo menos 29,30 metros cuadrados cubiertos.\n",
    "\n",
    "Por esta razón eliminaremos los tamaños menores a 18 metros.\n",
    "\n",
    "[Bibliografía](https://www.tiempoar.com.ar/nota/la-vida-en-18-m2-una-ley-a-medida-del-negocio-inmobiliario)\n",
    "\n"
   ]
  },
  {
   "cell_type": "code",
   "execution_count": null,
   "metadata": {
    "id": "aaRfAhhUcRYV"
   },
   "outputs": [],
   "source": [
    "distri_data = distri_data[distri_data['surface_covered'] >= 18] \n",
    "distri_data.nsmallest(5, ['surface_covered'])"
   ]
  },
  {
   "cell_type": "markdown",
   "metadata": {
    "id": "pTaLixy8-DI1"
   },
   "source": [
    "Ahora pasamos a revisar la columna 'Rooms', ya que el valor  máximo  es demasiado alto."
   ]
  },
  {
   "cell_type": "code",
   "execution_count": null,
   "metadata": {
    "id": "wFzGAO3QBCmg"
   },
   "outputs": [],
   "source": [
    "distri_data.nlargest(10, ['rooms'])"
   ]
  },
  {
   "cell_type": "markdown",
   "metadata": {
    "id": "Y7l-UOkCBQdL"
   },
   "source": [
    "Luego de leer las descripciones de las viviendas decido eliminar la viviendas con más de 10, ya que muchas son oficinas. "
   ]
  },
  {
   "cell_type": "code",
   "execution_count": null,
   "metadata": {
    "id": "N3zNEmi7Bo11"
   },
   "outputs": [],
   "source": [
    "distri_data = distri_data[distri_data['rooms'] < 10] \n",
    "distri_data.nlargest(5, ['rooms'])"
   ]
  },
  {
   "cell_type": "markdown",
   "metadata": {
    "id": "9MVb6xfeB76V"
   },
   "source": [
    "Ahora revisamos la columna 'bedrooms'"
   ]
  },
  {
   "cell_type": "code",
   "execution_count": null,
   "metadata": {
    "id": "551PcTLaB_FD"
   },
   "outputs": [],
   "source": [
    "distri_data.nlargest(10, ['bedrooms'])"
   ]
  },
  {
   "cell_type": "markdown",
   "metadata": {
    "id": "ZZKmPbYnCeYA"
   },
   "source": [
    "Decido dejar solo las viviendas menores a 9 habitaciones, ya que las descripciones de las que son más grandes parecen de algo diferente a vivienda"
   ]
  },
  {
   "cell_type": "code",
   "execution_count": null,
   "metadata": {
    "id": "nGPAY-sBCpDn"
   },
   "outputs": [],
   "source": [
    "distri_data = distri_data[distri_data['bedrooms'] < 8]\n",
    "distri_data.nlargest(5, ['bedrooms'])"
   ]
  },
  {
   "cell_type": "markdown",
   "metadata": {
    "id": "X9OHdkMTDRY9"
   },
   "source": [
    "por último reviso los baños"
   ]
  },
  {
   "cell_type": "code",
   "execution_count": null,
   "metadata": {
    "id": "N6hvr_o_DTlm"
   },
   "outputs": [],
   "source": [
    "distri_data.nlargest(10, ['bathrooms'])"
   ]
  },
  {
   "cell_type": "markdown",
   "metadata": {
    "id": "VJguEmZkD-gz"
   },
   "source": [
    "Voy a eliminar solo 9 registros que se alejan mucho de la media y que veo pueden ser valores erroneos por la descripción"
   ]
  },
  {
   "cell_type": "code",
   "execution_count": null,
   "metadata": {
    "id": "k3Va27QTEXso"
   },
   "outputs": [],
   "source": [
    "distri_data = distri_data[distri_data['bathrooms'] < 7]\n",
    "distri_data.nlargest(5, ['bathrooms'])"
   ]
  },
  {
   "cell_type": "markdown",
   "metadata": {
    "id": "vzijhCFGEguO"
   },
   "source": [
    "Ahora vuelvo a revisar la descripción de los valores para asegurarme que todo este bien"
   ]
  },
  {
   "cell_type": "code",
   "execution_count": null,
   "metadata": {
    "id": "Zk6AWMYJElNO"
   },
   "outputs": [],
   "source": [
    "distri_data.describe()"
   ]
  },
  {
   "cell_type": "markdown",
   "metadata": {
    "id": "cVa1l02xdGuO"
   },
   "source": [
    "Sobre las habitaciónes sin cuarto no tenemos problema, ya que es común la venta de apartamentos que son monoambientes.\n",
    "\n",
    "Tampoco tenemos problemas con los baños, ya que ahora el mínimo es 1\n",
    "\n",
    "Decido terminar la exploración de los datos ya que no veo más datos  desfasados."
   ]
  },
  {
   "cell_type": "markdown",
   "metadata": {
    "id": "WZZ2lOL8jXLd"
   },
   "source": [
    "**4.**Una vez filtrado el dataset, puedes utilizar la función pairplot de Seaborn."
   ]
  },
  {
   "cell_type": "code",
   "execution_count": null,
   "metadata": {
    "id": "VHyKjkeWjfhV"
   },
   "outputs": [],
   "source": [
    "plt.figure(figsize = ((16,10)))\n",
    "sns.pairplot(data = distri_data, hue = 'property_type')\n",
    "plt.show()"
   ]
  },
  {
   "cell_type": "markdown",
   "metadata": {
    "id": "1JJs48gQ9s0R"
   },
   "source": [
    "---\n",
    "\n",
    "<br />\n",
    "<br />\n",
    "\n",
    "# SECCIÓN 3: Correlaciones\n",
    "<br />\n",
    "<br />\n",
    "\n",
    "---"
   ]
  },
  {
   "cell_type": "markdown",
   "metadata": {
    "id": "4BNzCYX_-8gD"
   },
   "source": [
    "**Correlaciones:** Estudia la correlación entre las variables `rooms`, \n",
    "`bedrooms`, `bathrooms`, `surface_total`, `surface_covered`, `price`. ¿Cuáles son las mejores variables para predecir el precio?¿Qué diferencias encuentras según cada tipo de propiedad?"
   ]
  },
  {
   "cell_type": "markdown",
   "metadata": {
    "id": "j6FSdm4QkV3b"
   },
   "source": [
    "El primer paso será realizar los mapas de calor.  Esta gráfica es muy sencilla de interpretar ya que entre más fuerte sea el color, mayor será la magnitud de la correlación."
   ]
  },
  {
   "cell_type": "code",
   "execution_count": null,
   "metadata": {
    "id": "FHqvlTXHk6jr"
   },
   "outputs": [],
   "source": [
    "departamento= distri_data[distri_data.property_type == 'Departamento']\n",
    "casa = distri_data[distri_data.property_type == 'Casa']\n",
    "ph = distri_data[distri_data.property_type == 'PH']"
   ]
  },
  {
   "cell_type": "code",
   "execution_count": null,
   "metadata": {
    "id": "4_mkie84k7ka"
   },
   "outputs": [],
   "source": [
    "plt.figure(figsize=(20,20))\n",
    "\n",
    "#heatmap general:\n",
    "plt.subplot(2,2,1)\n",
    "correlation_matrix =distri_data.corr()\n",
    "sns.heatmap(correlation_matrix,cmap= \"YlGnBu\", annot=True)\n",
    "\n",
    "# Revisamos el heatmap para los departamentos:\n",
    "plt.subplot(2,2,2)\n",
    "sns.heatmap(departamento.corr(),cmap= \"YlGnBu\",annot=True)\n",
    "plt.title('Matriz de correlación para los departamentos:')\n",
    "\n",
    "# Revisamos el heatmap para las casas:\n",
    "plt.subplot(2,2,3)\n",
    "sns.heatmap(casa.corr(),cmap= \"YlGnBu\",annot=True)\n",
    "plt.title('Matriz de correlación para las casas:')\n",
    "\n",
    "# Revisamos el heatmap para las HP:\n",
    "plt.subplot(2,2,4)\n",
    "sns.heatmap(ph.corr(),cmap= \"YlGnBu\",annot=True)\n",
    "plt.title('Matriz de correlación para la propiedad horizontal:')"
   ]
  },
  {
   "cell_type": "markdown",
   "metadata": {
    "id": "xzriVz6HlOPI"
   },
   "source": [
    "**¿Cuáles son las mejores variables para predecir el precio?**"
   ]
  },
  {
   "cell_type": "markdown",
   "metadata": {
    "id": "YPs3XCwLp5AR"
   },
   "source": [
    "como podemos ver en las gráficas surface_total and surface_covered son lás mejores variables para predecir el precio. en menor proporción podríamos tomar los baños. \n",
    "\n",
    "Si hablamos especificamente del tipo de propiedad 'Casa', surface_total tiene una correlación relativamente baja sin embargo casa solo es el 2.2% de las propiedades totales, por lo cual seguiremos tomando en cuenta el surface_total."
   ]
  },
  {
   "cell_type": "markdown",
   "metadata": {
    "id": "8RffjORTlQGC"
   },
   "source": [
    "**Qué diferencias encuentras según cada tipo de propiedad?**"
   ]
  },
  {
   "cell_type": "markdown",
   "metadata": {
    "id": "6dUk-JUXru3g"
   },
   "source": [
    "encuentro una gran relación entre la matriz general y la matriz filtrada por departamentos. Considero que esto se debe a que el 85.4% de los datos pertenecen a este tipo de propiedad. \n",
    "\n",
    "La relación de la matriz generada para casas tiene las correlaciones más pequeñas. la correlación entre bathrooms y surface_total es de solo 0.31, a diferencia de departamentos, en el cual este valor asciende a 0.64.\n",
    "\n",
    "PH, a diferencia de las casas, tiene valores un poco más cercamos a departamento, sin embargo gran parte de las correlaciones son menores que las registradas en departamentos. "
   ]
  },
  {
   "cell_type": "markdown",
   "metadata": {
    "id": "PmbKxA0j97bI"
   },
   "source": [
    "---\n",
    "\n",
    "<br />\n",
    "<br />\n",
    "\n",
    "# SECCIÓN 4: Desafío.\n",
    "<br />\n",
    "<br />\n",
    "\n",
    "---"
   ]
  },
  {
   "cell_type": "markdown",
   "metadata": {
    "id": "KIcsRF2H-OSv"
   },
   "source": [
    "En el dataset provisto hay mucha información, más allá del problema planteado. Propone una pregunta que pueda ser respondida por el dataset e intenta responderla.¿Cuáles son los sesgos de la respuesta obtenida?(¿Cuán generalizable es la respuesta obtenida?)¿Necesitas información complementaria?¿Cómo la obtendrías?\n",
    "\n",
    "Por ejemplo: ¿Cuál es el barrio más caro de Buenos Aires? Probablemente puedas responder esta pregunta con este dataset. Pero podria ocurrir que la respuesta esté sesgada. ¿Cómo? Tal vez las propiedades más caras no se publican de forma online, sino que utilizan otro canal de venta."
   ]
  },
  {
   "cell_type": "markdown",
   "metadata": {
    "id": "a34eznZZ0Lyl"
   },
   "source": [
    "El desafió elegido es los barrios más costosos de Buenos Aires."
   ]
  },
  {
   "cell_type": "code",
   "execution_count": null,
   "metadata": {
    "id": "enMnVj8h0Huk"
   },
   "outputs": [],
   "source": [
    "#Creo un nuevo dataframe.\n",
    "desafio_data = pd.read_csv(r'data.csv')"
   ]
  },
  {
   "cell_type": "code",
   "execution_count": null,
   "metadata": {
    "id": "9rx8zS7H0N57"
   },
   "outputs": [],
   "source": [
    "desafio_data.drop_duplicates(inplace=True)"
   ]
  },
  {
   "cell_type": "code",
   "execution_count": null,
   "metadata": {
    "id": "-5aBqGgZ0Pkz"
   },
   "outputs": [],
   "source": [
    "#Creo una nueva columna para realizar la operación\n",
    "desafio_data['diferencia'] = desafio_data['price'] / desafio_data['surface_total']\n",
    "desafio_data[:4]"
   ]
  },
  {
   "cell_type": "code",
   "execution_count": null,
   "metadata": {
    "id": "6olm9af_0Un7"
   },
   "outputs": [],
   "source": [
    "dataframe_desafio = pd.pivot_table(desafio_data, values='diferencia', index=['l3'], aggfunc = np.mean)"
   ]
  },
  {
   "cell_type": "code",
   "execution_count": null,
   "metadata": {
    "id": "UploB0kOtnw7"
   },
   "outputs": [],
   "source": [
    "barrios_mas = dataframe_desafio.sort_values('diferencia', ascending=False)\n",
    "print('Top 5 barrios más costosos')\n",
    "barrios_mas.head(5)"
   ]
  },
  {
   "cell_type": "code",
   "execution_count": null,
   "metadata": {
    "id": "02aw5ctu0Zeb"
   },
   "outputs": [],
   "source": [
    "barrios_menos = dataframe_desafio.sort_values('diferencia', ascending=True)\n",
    "print('Top 5 barrios más baratos')\n",
    "barrios_menos.head(5)"
   ]
  },
  {
   "cell_type": "markdown",
   "metadata": {
    "id": "2gOuSlT90cdj"
   },
   "source": [
    "**CONCLUSIONES**\n",
    "\n",
    "El barrio más costoso es Puerto madero con una media de 6.082 dolares por cada metro cuadrado, casi 559.000 pesos argentinos.De acuerdo al instituto nacional de estadística Puerto madera es el barrio más costoso para vivir de Argentina y de América Latina. \n",
    "Es importante recordar que estos datos no son actuales y que para el año 2021 los precios de las viviendas presentaron una variación negativa como resultado del covid-19. Para el barrio puerto madero, la compañía Properati, reporto una caída del 9% de los precios.\n",
    "\n",
    "Sobre la forma de venta en propiedades de lujo, después de una investigación en diferentes bases de datos, encontré que estos tipos de clientes buscan personas especializadas en la venta de este tipo de viviendas, con un amplio conocimiento del sector y muchas veces que sean reconocidas. Los clientes buscan un trato directo, ameno y que genere una sensación de confianza que es difícil de lograr de forma online. \n",
    "\n",
    "Gran parte de los inmuebles de lujo se venden por relaciones publicas inmobiliarias, por lo cual muchas veces no son necesarios publicarlos de forma online en páginas de venta y alquiler, generando un sesgo en la información obtenida para el análisis.  \n",
    "\n",
    "El barrio Presidente Perón, el cual se encuentra a 30 kilómetros de la ciudad de Buenos aires, es el más económico\n",
    "\n",
    "[Bibliografía](https://www.bbc.com/mundo/noticias-44091339)"
   ]
  },
  {
   "cell_type": "markdown",
   "metadata": {
    "id": "pbJDA9kb9v-c"
   },
   "source": [
    "---\n",
    "\n",
    "<br />\n",
    "<br />\n",
    "\n",
    "# SECCIÓN 5: Machine Learning.\n",
    "<br />\n",
    "<br />\n",
    "\n",
    "---"
   ]
  },
  {
   "cell_type": "markdown",
   "metadata": {
    "id": "n7X-Un2-90cJ"
   },
   "source": [
    "En esta sección, debes entrenar dos modelos de Machine Learning - uno de vecinos más cercanos y otro de árboles de decisión -  para predecir el precio de las propiedades tipo `Departamento`, `PH` y `Casa`  en la Ciudad Autónoma de Buenos Aires (`Capital Federal`). Para ello, no debes olvidarte de:\n",
    "\n",
    "* Elegir una métrica apropiada para evaluar los resultados de los modelos.\n",
    "* Seleccionar las variables predictoras (`X`) y la variable a predecir (`y`). \n",
    "* Realizar un Train/Test split de los datos.\n",
    "* Generar un modelo *benchmark* y evaluarlo.\n",
    "* Entrenar un modelo de vecinos más cercanos y un modelo de árbol de decisión con hiperparámetros iniciales de su elección.\n",
    "* Evaluar los modelos obtenidos. Para ello, evalúa la métrica elegida en el conjunto de Test y en el conjunto de Train. También, realiza gráficos de valores reales vs. valores predichos.\n",
    "* Mejorar el desempeño de sus modelos optimizando el número de vecinos y la profundidad del árbol, respectivamente.\n",
    "* Entre los modelos entrenados, ¿cuál elegirías para utilizar?¿Por qué? \n",
    "* Ser **crítico/a** con la metodología utilizada. Por ejemplo, responde las siguientes preguntas: ¿Qué información no estás usando que podría ayudar al modelo?¿Qué información puede estar demás o repetida?\n",
    "\n",
    "Estos lineamientos corresponden al **mínimo entregable** de esta sección.\n",
    "\n",
    "\n",
    "**Importante:** para asegurarnos que trabajes con un dataset apropiados, debes volver a cargar los datos y realizar el siguiente filtrado:\n",
    "\n",
    "1. Selecciona aquellas propiedades en Capital Federal y cuyo tipo de propiedad es Departamento, PH o Casa.\n",
    "1. Selecciona aquellas propiedades cuya superficie total es menor a 1000 m2 y mayor a 15 m2.\n",
    "1. Selecciona aquellas propiedades cuya precio es menor 4000000 dólares.\n",
    "1. Selecciona las columnas `rooms`, `bedrooms`, `bathrooms`, `surface_total`, `surface_covered` y `price`.\n",
    "1. Descarta aquellas instacias con valores faltantes.\n",
    "\n",
    "**Checkpoint:** deberías obtener un dataset con 81019 instacias y 6 columnas."
   ]
  },
  {
   "cell_type": "markdown",
   "metadata": {
    "id": "Z6jsj2moy4xf"
   },
   "source": [
    "**0.** Importo las librerías necesarias para trabajar en el machine learning."
   ]
  },
  {
   "cell_type": "code",
   "execution_count": null,
   "metadata": {
    "id": "dn-Qwvp2zIEj"
   },
   "outputs": [],
   "source": [
    "from sklearn.model_selection import train_test_split\n",
    "from sklearn.linear_model import LinearRegression\n",
    "from sklearn.metrics import mean_squared_error, r2_score\n",
    "from sklearn.tree import DecisionTreeRegressor\n",
    "from sklearn.neighbors import KNeighborsRegressor"
   ]
  },
  {
   "cell_type": "markdown",
   "metadata": {
    "id": "8d6q6QDmzJAV"
   },
   "source": [
    "**1.** Cargo el dataset y creo el filtrado"
   ]
  },
  {
   "cell_type": "code",
   "execution_count": null,
   "metadata": {
    "id": "hq2yIcqczYZS"
   },
   "outputs": [],
   "source": [
    "ml_data = pd.read_csv(r'data.csv')"
   ]
  },
  {
   "cell_type": "code",
   "execution_count": null,
   "metadata": {
    "id": "C0FCH-IGzr0Q"
   },
   "outputs": [],
   "source": [
    "filtro_ml_0 = (ml_data['l2'] == 'Capital Federal')& (ml_data['property_type'].isin(['Departamento','PH','Casa']))\n",
    "filtro_ml_1 = (ml_data['surface_total'] >= 15) & (ml_data['surface_total'] <= 1000)\n",
    "filtro_ml_2 = ml_data['price'] <= 4000000\n",
    "ml_data = ml_data[ (filtro_ml_0) & (filtro_ml_1)& (filtro_ml_2)]\n",
    "usecols= ['rooms', 'bedrooms','bathrooms','surface_total', 'surface_covered', 'price']\n",
    "ml_data =ml_data[usecols]\n",
    "ml_data.dropna(inplace=True)"
   ]
  },
  {
   "cell_type": "markdown",
   "metadata": {
    "id": "oMDebp8FzvfX"
   },
   "source": [
    "Reviso que el dataset tenga 81019 instacias y 6 columnas."
   ]
  },
  {
   "cell_type": "code",
   "execution_count": null,
   "metadata": {
    "id": "U31COVWXzz7b"
   },
   "outputs": [],
   "source": [
    "ml_data.shape"
   ]
  },
  {
   "cell_type": "markdown",
   "metadata": {
    "id": "zVUOwUUJ0A4y"
   },
   "source": [
    "Daremos una mirada a como quedo el dataset."
   ]
  },
  {
   "cell_type": "code",
   "execution_count": null,
   "metadata": {
    "id": "FIrn_AEa0FCS"
   },
   "outputs": [],
   "source": [
    "ml_data.head()"
   ]
  },
  {
   "cell_type": "markdown",
   "metadata": {
    "id": "3yFnjiCG0LpW"
   },
   "source": [
    "**2.** Funciones creadas para el desarrollo del modelo de machine learning:"
   ]
  },
  {
   "cell_type": "code",
   "execution_count": null,
   "metadata": {
    "id": "CdDBcISp0IDE"
   },
   "outputs": [],
   "source": [
    "# función para medir el error cuadratico:\n",
    "def rmse(predictions, targets, types):\n",
    "    rmse_1 = round(np.sqrt(((predictions - targets) ** 2).mean()),2)\n",
    "    print(f'La raíz del error cuadrático medio para {types} es de: {rmse_1}')\n",
    "    return \n",
    "\n",
    "# función para medir el coeficiente de determinación:\n",
    "def r2(predictions, targets, types):\n",
    "    r2_1 = round(r2_score(predictions, targets),3)\n",
    "    print(f'El coeficiente de determinación  para {types} es de: {r2_1}')\n",
    "    return \n",
    "\n",
    "# función para medir el coeficiente de regresión:\n",
    "def coef(model):\n",
    "    print(model.coef_)\n",
    "\n",
    "# variance score: 1 means perfect prediction\n",
    "def var(model):\n",
    "    print('Score Varianza: {}'.format(model.score(X_test, y_test)))"
   ]
  },
  {
   "cell_type": "markdown",
   "metadata": {
    "id": "xZGrLBFL0b6G"
   },
   "source": [
    "**3.** Elegir una métrica apropiada para evaluar los resultados de los modelos."
   ]
  },
  {
   "cell_type": "markdown",
   "metadata": {
    "id": "zcFAUItH0f4n"
   },
   "source": [
    "Las metricas elegidas para evaluar los resultados de los modelos son:\n",
    "\n",
    "**A. RMSE (Error Cuadrático Medio)**: Mide la cantidad de error que hay entre dos conjuntos de datos ( train y test).\n",
    "lo elegí porque me muestra cuán cerca están los puntos de datos observados de los valores predichos del modelo. \n",
    "\n",
    "Sin embargo esta métrica tiene una dificultad y es que da mucha importancia a los errores grandes. \n",
    "\n",
    "**B. R2 (R-cuadrado)**: es una medida estadística que me muestra  qué tan cerca están los datos de la línea de regresión ajustada.\n",
    "Toma valores de 0 a 1, lo cual se traduce en:\n",
    "Si es 0 (0%) o cerca indica que el modelo no explica ninguna porción de la variabilidad de los datos en torno a su media.\n",
    "si es 1 (100%)indica que el modelo explica toda la variabilidad de los datos de respuesta en torno a su media.\n"
   ]
  },
  {
   "cell_type": "markdown",
   "metadata": {
    "id": "CDAXBmC23euF"
   },
   "source": [
    "**4.** Seleccionar las variables predictoras (X) y la variable a predecir (y)."
   ]
  },
  {
   "cell_type": "code",
   "execution_count": null,
   "metadata": {
    "id": "IRC6_1cj4OcM"
   },
   "outputs": [],
   "source": [
    "X = ml_data[['rooms', 'bedrooms', 'bathrooms', 'surface_total', 'surface_covered']]\n",
    "y = ml_data['price']"
   ]
  },
  {
   "cell_type": "markdown",
   "metadata": {
    "id": "uTOIJzsM5DzQ"
   },
   "source": [
    "**5.** Realizar un Train/Test split de los datos."
   ]
  },
  {
   "cell_type": "code",
   "execution_count": null,
   "metadata": {
    "id": "QPJHnDJo5K2V"
   },
   "outputs": [],
   "source": [
    "# trabajamos con 70% de entrenamiento y 30% de prueba\n",
    "X_train,X_test,y_train,y_test= train_test_split(X,y,test_size=0.30,random_state=42)\n",
    "print(X_train.shape, X_test.shape, y_train.shape, y_test.shape)"
   ]
  },
  {
   "cell_type": "markdown",
   "metadata": {
    "id": "vWLk2V1X59gp"
   },
   "source": [
    "Vamos a trabajar con 70% de entrenamiento y 30% de prueba. \n",
    "\n",
    "Se asignaron 56713 ejemplos (70% por ciento) al conjunto de entrenamiento y 24306 ejemplos (30% por ciento) al conjunto de prueba, como especificamos en el split."
   ]
  },
  {
   "cell_type": "markdown",
   "metadata": {
    "id": "Kz_Gk1gP5Oay"
   },
   "source": [
    "**6.** Generar un modelo benchmark y evaluarlo."
   ]
  },
  {
   "cell_type": "markdown",
   "metadata": {
    "id": "CvD3Q_Sq5Ui6"
   },
   "source": [
    "El modelo benchmark elegido es la regresión lineal, el cual es uno de los modelos más usados. lo escogí porque es muy fácil de visualizar, explicar y entender."
   ]
  },
  {
   "cell_type": "code",
   "execution_count": null,
   "metadata": {
    "id": "TI_05QP35ThB"
   },
   "outputs": [],
   "source": [
    "lineal = LinearRegression()"
   ]
  },
  {
   "cell_type": "code",
   "execution_count": null,
   "metadata": {
    "id": "RUs4Jvay5d0G"
   },
   "outputs": [],
   "source": [
    "lineal.fit(X_train, y_train)"
   ]
  },
  {
   "cell_type": "code",
   "execution_count": null,
   "metadata": {
    "id": "EEUGIPF35gfI"
   },
   "outputs": [],
   "source": [
    "y_train_lineal = lineal.predict(X_train)\n",
    "y_test_lineal = lineal.predict(X_test)"
   ]
  },
  {
   "cell_type": "markdown",
   "metadata": {
    "id": "jpBgXJ4q6WVm"
   },
   "source": [
    "Ahora vamos a evaluar con las métricas elegidas."
   ]
  },
  {
   "cell_type": "code",
   "execution_count": null,
   "metadata": {
    "id": "3-W74Qqb6T1u"
   },
   "outputs": [],
   "source": [
    "rmse(y_train, y_train_lineal, 'Train')\n",
    "rmse(y_test, y_test_lineal, 'Test')\n",
    "r2(y_train,y_train_lineal, 'Train')\n",
    "r2(y_test, y_test_lineal, 'Test')\n",
    "var(lineal)"
   ]
  },
  {
   "cell_type": "code",
   "execution_count": null,
   "metadata": {
    "id": "GDpXSe6LA-OU"
   },
   "outputs": [],
   "source": [
    "#Gráfica error residual.\n",
    "\n",
    "#estilo\n",
    "plt.style.use('fivethirtyeight')\n",
    " \n",
    "plt.scatter(lineal.predict(X_train), lineal.predict(X_train) - y_train, color = \"#C70039\", s = 10, label = 'Train data')\n",
    "plt.scatter(lineal.predict(X_test), lineal.predict(X_test) - y_test, color = \"#33DDFF\", s = 10, label = 'Test data')\n",
    "\n",
    "plt.hlines(y = 0, xmin = 0, xmax = 50, linewidth = 2)\n",
    "plt.legend(loc = 'upper right')\n",
    "plt.title(\"ERROR RESIDUAL\")\n",
    "plt.show()"
   ]
  },
  {
   "cell_type": "markdown",
   "metadata": {
    "id": "XgAMWOr77hl4"
   },
   "source": [
    "Cuando el score de la varianza es igual a 1 significa que tendremos una predicción perfecta.\n",
    "Nuestro modelo tiene un score de 0.55. Lo cual para mi esta muy lejos.\n",
    "\n",
    "Lo mismo sucede con la métrica RMSE, entre más pequeño es el valor más cercanos son los valores predichos y observados, es decir mejor es el modelo. \n",
    "\n",
    "Tambien podemos observar que los valores de RMSE train y RMSE test se acercan bastante."
   ]
  },
  {
   "cell_type": "markdown",
   "metadata": {
    "id": "E3w2jxxiDTT1"
   },
   "source": [
    "**7.** Entrenar un modelo de vecinos más cercanos y un modelo de árbol de decisión con hiperparámetros iniciales de su elección."
   ]
  },
  {
   "cell_type": "markdown",
   "metadata": {
    "id": "719TDaAWDc85"
   },
   "source": [
    "**7.1 Modelo de árbol de decisión**\n",
    "\n",
    "\n"
   ]
  },
  {
   "cell_type": "markdown",
   "metadata": {
    "id": "gvF-oTREDl1I"
   },
   "source": [
    "Para mí modelo elegí la opción de árbol de regresión ya que son más útiles con variales continuas o númericas, como es nuestro caso; a diferencia del árbol de clasificación que es más últi a la hora de obtener variables categoricas. \n",
    "Aunque el árbol de regresión tiene caraceteristicas similares al árbol de clasificación observo algunas ventajas para nuestro analisis:\n",
    "1. Divisiones no sesgadas. \n",
    "2. No hay muchas limitaciones para los algoritmos del árbol de regresión"
   ]
  },
  {
   "cell_type": "code",
   "execution_count": null,
   "metadata": {
    "id": "Lflphw1mDaXQ"
   },
   "outputs": [],
   "source": [
    "tree = DecisionTreeRegressor()"
   ]
  },
  {
   "cell_type": "code",
   "execution_count": null,
   "metadata": {
    "id": "niQENLktDqC3"
   },
   "outputs": [],
   "source": [
    "tree.fit(X_train, y_train)"
   ]
  },
  {
   "cell_type": "code",
   "execution_count": null,
   "metadata": {
    "id": "vQBunNgcDrt0"
   },
   "outputs": [],
   "source": [
    "y_train_tree = tree.predict(X_train)\n",
    "y_test_tree = tree.predict(X_test)"
   ]
  },
  {
   "cell_type": "markdown",
   "metadata": {
    "id": "fhN1xlmbFgUf"
   },
   "source": [
    "Procedemos a realizar la evaluación:"
   ]
  },
  {
   "cell_type": "code",
   "execution_count": null,
   "metadata": {
    "id": "mhYH8XNWFDRT"
   },
   "outputs": [],
   "source": [
    "rmse(y_train, y_train_tree, 'Train')\n",
    "rmse(y_test, y_test_tree, 'Test')\n",
    "r2(y_train, y_train_tree, 'Train')\n",
    "r2(y_test, y_test_tree, 'Test')\n",
    "var(tree)"
   ]
  },
  {
   "cell_type": "markdown",
   "metadata": {
    "id": "7O9DOnWTGXPW"
   },
   "source": [
    "Vemos una gran mejora en los datos obtenidos, el R2 es más alto, al igual que la varianza.\n",
    "\n",
    "También los valores de RMSE bajaron a comparación de la regresión líneal."
   ]
  },
  {
   "cell_type": "markdown",
   "metadata": {
    "id": "G74HrTafGquk"
   },
   "source": [
    "**7.2 Modelo vecinos más cercanos**"
   ]
  },
  {
   "cell_type": "code",
   "execution_count": null,
   "metadata": {
    "id": "8KHr2_9eG5g0"
   },
   "outputs": [],
   "source": [
    "knn = KNeighborsRegressor()"
   ]
  },
  {
   "cell_type": "code",
   "execution_count": null,
   "metadata": {
    "id": "AsXUv1i5G8Ap"
   },
   "outputs": [],
   "source": [
    "knn.fit(X_train,y_train)"
   ]
  },
  {
   "cell_type": "code",
   "execution_count": null,
   "metadata": {
    "id": "f2IVv8thHBg2"
   },
   "outputs": [],
   "source": [
    "y_train_knn = knn.predict(X_train)\n",
    "y_test_knn = knn.predict(X_test)"
   ]
  },
  {
   "cell_type": "markdown",
   "metadata": {
    "id": "0RRGpSu9Hyl4"
   },
   "source": [
    "Procedemos a realizar la evaluación:"
   ]
  },
  {
   "cell_type": "code",
   "execution_count": null,
   "metadata": {
    "id": "furqPYDrHzK1"
   },
   "outputs": [],
   "source": [
    "rmse(y_train, y_train_knn, 'Train')\n",
    "rmse(y_test, y_test_knn, 'Test')\n",
    "r2(y_train, y_train_knn, 'Train')\n",
    "r2(y_test, y_test_knn, 'Test')\n",
    "var(knn)"
   ]
  },
  {
   "cell_type": "markdown",
   "metadata": {
    "id": "KhE950RVIcpU"
   },
   "source": [
    "Encontramos que los coeficientes de determinación son más bajos que en el modelo de árbol, al igual que en la varianza.\n",
    "\n",
    "En el RMSE vemos un aumento de los valores comparado con el modelo anterior."
   ]
  },
  {
   "cell_type": "markdown",
   "metadata": {
    "id": "IKWr6hr5I1mc"
   },
   "source": [
    "**8.** Evaluar los modelos obtenidos. Para ello, evalúa la métrica elegida en el conjunto de Test y en el conjunto de Train. También, realiza gráficos de valores reales vs. valores predichos.\n",
    "\n"
   ]
  },
  {
   "cell_type": "code",
   "execution_count": null,
   "metadata": {
    "id": "t-yo-sAXJWkw"
   },
   "outputs": [],
   "source": [
    "print('Modelo de regresión lineal')\n",
    "rmse(y_train, y_train_lineal, 'Train')\n",
    "rmse(y_test, y_test_lineal, 'Test')\n",
    "r2(y_train,y_train_lineal, 'Train')\n",
    "r2(y_test, y_test_lineal, 'Test')\n",
    "print('')\n",
    "print('-------------------------------')\n",
    "\n",
    "print('Modelo de árbol de decisión')\n",
    "rmse(y_train, y_train_tree, 'Train')\n",
    "rmse(y_test, y_test_tree, 'Test')\n",
    "r2(y_train, y_train_tree, 'Train')\n",
    "r2(y_test, y_test_tree, 'Test')\n",
    "print('')\n",
    "print('-------------------------------')\n",
    "\n",
    "print('Modelo de vecinos cercanos')\n",
    "rmse(y_train, y_train_knn, 'Train')\n",
    "rmse(y_test, y_test_knn, 'Test')\n",
    "r2(y_train, y_train_knn, 'Train')\n",
    "r2(y_test, y_test_knn, 'Test')"
   ]
  },
  {
   "cell_type": "markdown",
   "metadata": {
    "id": "ssweSciAVS9w"
   },
   "source": [
    "Realizo las gráficas para que sea más sencilla su interpretación"
   ]
  },
  {
   "cell_type": "code",
   "execution_count": null,
   "metadata": {
    "id": "mgCxyPRDVNCr"
   },
   "outputs": [],
   "source": [
    "modelos_1 = ['Regresión lineal', 'Árbol de Decisión', 'Vecinos más cercanos']\n",
    "\n",
    "for i, modelo_2 in enumerate([lineal, tree, knn]):\n",
    "    y_train_pred = modelo_2.predict(X_train)\n",
    "    y_test_pred = modelo_2.predict(X_test)\n",
    "    print(f'Modelo: {modelos_1[i]}')\n",
    "\n",
    "    plt.figure(figsize = (20,4))\n",
    "   \n",
    "    ax = plt.subplot(1,2,2)\n",
    "    ax.scatter(y_test,y_test_pred, s =2, color='#D47D6F')\n",
    "\n",
    "    lims = [np.min([ax.get_xlim(), ax.get_ylim()]),  np.max([ax.get_xlim(), ax.get_ylim()]),]\n",
    "    \n",
    "    ax.plot(lims, lims, 'k-', alpha=0.75, zorder=0)\n",
    "    plt.xlabel('y (test)')\n",
    "    plt.ylabel('y_pred (test)')\n",
    "    plt.tight_layout()\n",
    "    plt.show()"
   ]
  },
  {
   "cell_type": "markdown",
   "metadata": {
    "id": "1_mxjEeGX-9N"
   },
   "source": [
    "**8.** Mejorar el desempeño de sus modelos optimizando el número de vecinos y la profundidad del árbol, respectivamente."
   ]
  },
  {
   "cell_type": "markdown",
   "metadata": {
    "id": "x6xj9E2QYU2Z"
   },
   "source": [
    "**8.1 Modelo Árbol de desición**"
   ]
  },
  {
   "cell_type": "code",
   "execution_count": null,
   "metadata": {
    "id": "PpgbEzbSYI4N"
   },
   "outputs": [],
   "source": [
    "tree_train_l = []\n",
    "tree_test_l = []\n",
    "tree_train_r = 0\n",
    "tree_test_r = 0\n",
    "max_depths = [1,2,3,4,5,6,7,8,9,10,11,12,13,14,15,16,17,18,19,20,21,22,23,24,25]\n",
    "\n",
    "for i in max_depths:\n",
    "    tree_reg = DecisionTreeRegressor(max_depth = i)\n",
    "    tree_reg.fit(X_train,y_train)\n",
    "    \n",
    "    y_train_pred_tree = tree_reg.predict(X_train)\n",
    "    tree_train_rmse = np.sqrt(mean_squared_error(y_train, y_train_pred_tree))\n",
    "\n",
    "    y_test_pred_tree = tree_reg.predict(X_test)\n",
    "    tree_test_r = np.sqrt(mean_squared_error(y_test, y_test_pred_tree))\n",
    "    \n",
    "    tree_train_l.append(tree_train_rmse)\n",
    "    tree_test_l.append(tree_test_r)"
   ]
  },
  {
   "cell_type": "code",
   "execution_count": null,
   "metadata": {
    "id": "svttcTzZJCCY"
   },
   "outputs": [],
   "source": [
    "min_test_tree = np.amin(tree_test_l)\n",
    "lista_tree_test_r_tree_op = tree_test_l.index(min(tree_test_l))\n",
    "max_depths_op = max_depths[lista_tree_test_r_tree_op]\n",
    "\n",
    "plt.figure(figsize=(15,5))\n",
    "\n",
    "plt.plot(max_depths, tree_train_l, 'o-', label = 'RMSE train', color='#7B3B6B')\n",
    "plt.plot(max_depths, tree_test_l, 'o-', label = 'RMSE test',color='#D47D6F')\n",
    "plt.xlabel('Profundidad', size = 15)\n",
    "plt.ylabel('RMSE', size =15)\n",
    "plt.title('Rendimiento Árbol de Decisión', size = 20)\n",
    "plt.scatter(max_depths_op, min_test_tree, s=300, marker = '*', \n",
    "         label = 'RMSE = {} \\nmax_depth = {} '.format(round(min_test_tree),max_depths_op), color = '#33D4FF')\n",
    "plt.legend(loc = 'upper right', fontsize = 15)\n",
    "\n",
    "plt.show()"
   ]
  },
  {
   "cell_type": "markdown",
   "metadata": {
    "id": "35r6s3kaNgvX"
   },
   "source": [
    "La profundidad del árbol obtenida es de 17, con un RMSE de 147138"
   ]
  },
  {
   "cell_type": "markdown",
   "metadata": {
    "id": "VgTmAoCKOC4j"
   },
   "source": [
    "**8.2 Modelo vecinos más cercanos**"
   ]
  },
  {
   "cell_type": "code",
   "execution_count": null,
   "metadata": {
    "id": "tTd7W89LOCTN"
   },
   "outputs": [],
   "source": [
    "rmse_train_r = []\n",
    "rmse_test_r = []\n",
    "vecinos = [1,2,3,4,5,6,7,8,9,10,11,12,13,14,15,16,17,18,19,20]\n",
    "\n",
    "for i in vecinos:\n",
    "    knn_reg = KNeighborsRegressor(n_neighbors = i)\n",
    "    knn_reg.fit(X_train,y_train)\n",
    "    \n",
    "    y_train_pred_knn = knn_reg.predict(X_train)\n",
    "    rmse_train_knn = np.sqrt(mean_squared_error(y_train, y_train_pred_knn))\n",
    "\n",
    "    y_test_pred_knn = knn_reg.predict(X_test)\n",
    "    rmse_test_knn = np.sqrt(mean_squared_error(y_test, y_test_pred_knn))\n",
    "    \n",
    "    rmse_train_r.append(rmse_train_knn)\n",
    "    rmse_test_r.append(rmse_test_knn)"
   ]
  },
  {
   "cell_type": "code",
   "execution_count": null,
   "metadata": {
    "id": "3dNIP33wbjhC"
   },
   "outputs": [],
   "source": [
    "min_test_knn = np.amin(rmse_test_r)\n",
    "lista_rmse_test_knn_op = rmse_test_r.index(min(rmse_test_r))\n",
    "vecinos_op = vecinos[lista_rmse_test_knn_op]\n",
    "\n",
    "plt.figure(figsize=(15,5))\n",
    "\n",
    "plt.plot(vecinos, rmse_train_r, 'o-', label = 'RMSE train', color='#7B3B6B')\n",
    "plt.plot(vecinos, rmse_test_r, 'o-', label = 'RMSE test',color='#D47D6F')\n",
    "plt.xlabel('Cantidad vecinos', size = 15)\n",
    "plt.ylabel('RMSE', size =15)\n",
    "plt.title('Rendimiento KNN', size = 20)\n",
    "plt.scatter(vecinos_op, min_test_knn, s=300, marker = '*', \n",
    "         label = 'RMSE = {} \\nn_neighbors = {} '.format(round(min_test_knn),vecinos_op), color = '#33D4FF')\n",
    "plt.legend(loc = 'center right', fontsize = 15)\n",
    "\n",
    "plt.show()"
   ]
  },
  {
   "cell_type": "markdown",
   "metadata": {
    "id": "k-73jjm0cFDi"
   },
   "source": [
    "Obtuvimos un RMSE de 152317 y una cantidad de vecinos optima de 3"
   ]
  },
  {
   "cell_type": "markdown",
   "metadata": {
    "id": "7cRfQnYrcXUm"
   },
   "source": [
    "**8.3 Modelo Árbol de decisión OPTIMO**\n",
    "\n"
   ]
  },
  {
   "cell_type": "code",
   "execution_count": null,
   "metadata": {
    "id": "6xYm4s9HcjFL"
   },
   "outputs": [],
   "source": [
    "tree_optimo = DecisionTreeRegressor(max_depth= 17,random_state=42)\n",
    "tree_optimo.fit(X_train,y_train)"
   ]
  },
  {
   "cell_type": "code",
   "execution_count": null,
   "metadata": {
    "id": "632BslYBe4i5"
   },
   "outputs": [],
   "source": [
    "y_train_tree_optimo = tree_optimo.predict(X_train)\n",
    "y_test_tree_optimo = tree_optimo.predict(X_test)"
   ]
  },
  {
   "cell_type": "markdown",
   "metadata": {
    "id": "6s_2xZUHeoju"
   },
   "source": [
    "**8.4 Modelo vecinos más cercanos OPTIMO**\n"
   ]
  },
  {
   "cell_type": "code",
   "execution_count": null,
   "metadata": {
    "id": "scrh0vHpez-G"
   },
   "outputs": [],
   "source": [
    "knn_optimo = KNeighborsRegressor(n_neighbors=3)\n",
    "knn_optimo.fit(X_train,y_train)"
   ]
  },
  {
   "cell_type": "code",
   "execution_count": null,
   "metadata": {
    "id": "N_79DaurfDYM"
   },
   "outputs": [],
   "source": [
    "y_train_knn_optimo = knn_optimo.predict(X_train)\n",
    "y_test_knn_optimo = knn_optimo.predict(X_test)"
   ]
  },
  {
   "cell_type": "markdown",
   "metadata": {
    "id": "FzscQLaCkHE5"
   },
   "source": [
    "**8.5 Evaluación modelos**"
   ]
  },
  {
   "cell_type": "code",
   "execution_count": null,
   "metadata": {
    "id": "dFDhfoVmkJpO"
   },
   "outputs": [],
   "source": [
    "print('Modelo de regresión lineal')\n",
    "rmse(y_train, y_train_lineal, 'Train')\n",
    "rmse(y_test, y_test_lineal, 'Test')\n",
    "r2(y_train,y_train_lineal, 'Train')\n",
    "r2(y_test, y_test_lineal, 'Test')\n",
    "print('')\n",
    "print('-------------------------------')\n",
    "\n",
    "print('Modelo de árbol de decisión')\n",
    "rmse(y_train, y_train_tree_optimo, 'Train')\n",
    "rmse(y_test, y_test_tree_optimo, 'Test')\n",
    "r2(y_train, y_train_tree_optimo, 'Train')\n",
    "r2(y_test, y_test_tree_optimo, 'Test')\n",
    "print('')\n",
    "print('-------------------------------')\n",
    "\n",
    "print('Modelo de vecinos cercanos')\n",
    "rmse(y_train, y_train_knn_optimo, 'Train')\n",
    "rmse(y_test, y_test_knn_optimo, 'Test')\n",
    "r2(y_train, y_train_knn_optimo, 'Train')\n",
    "r2(y_test, y_test_knn_optimo, 'Test')"
   ]
  },
  {
   "cell_type": "code",
   "execution_count": null,
   "metadata": {
    "id": "Qfb0TkdkodXV"
   },
   "outputs": [],
   "source": [
    "modelos_1 = ['Regresión lineal', 'Árbol de Decisión', 'Vecinos más cercanos']\n",
    "\n",
    "for i, modelo_2 in enumerate([lineal, tree_optimo, knn_optimo]):\n",
    "    y_train_pred = modelo_2.predict(X_train)\n",
    "    y_test_pred = modelo_2.predict(X_test)\n",
    "    print(f'Modelo: {modelos_1[i]}')\n",
    "\n",
    "    plt.figure(figsize = (20,4))\n",
    "   \n",
    "    ax = plt.subplot(1,2,2)\n",
    "    ax.scatter(y_test,y_test_pred, s =2, color='#D47D6F')\n",
    "\n",
    "    lims = [np.min([ax.get_xlim(), ax.get_ylim()]),  np.max([ax.get_xlim(), ax.get_ylim()]),]\n",
    "    \n",
    "    ax.plot(lims, lims, 'k-', alpha=0.75, zorder=0)\n",
    "    plt.xlabel('y (test)')\n",
    "    plt.ylabel('y_pred (test)')\n",
    "    plt.tight_layout()\n",
    "    plt.show()"
   ]
  },
  {
   "cell_type": "markdown",
   "metadata": {
    "id": "oqtRXeu8hZ3o"
   },
   "source": [
    "**9.** Entre los modelos entrenados, ¿cuál elegirías para utilizar?¿Por qué? "
   ]
  },
  {
   "cell_type": "markdown",
   "metadata": {
    "id": "VRyR1iWMp9eY"
   },
   "source": [
    "Para realizar el estudio del RMSE primero observare cuanto es la media de 'Price'"
   ]
  },
  {
   "cell_type": "code",
   "execution_count": null,
   "metadata": {
    "id": "gqeSf9KRqDqy"
   },
   "outputs": [],
   "source": [
    "ml_data['price'].mean()"
   ]
  },
  {
   "cell_type": "markdown",
   "metadata": {
    "id": "TK6ECdw-ovK6"
   },
   "source": [
    "**RMSE:**\n",
    "\n",
    "El mejor modelo fue el del árbol optimizado, con un RMSE de 146.092 USD. sin embargo considero que el valor es muy alto si tenemos en cuenta que para el precio tenemos una media de 263.772 USD. \n",
    "El peor modelo fue la regresión lineal, con un RMSE de 202.449 USD, lo cual es exageradamente alto.\n",
    "\n",
    "**R2:**\n",
    "\n",
    "Con los resultados obtenidos en R2 el mejor modelo, al igual que con RMSE, es el árbol de decisión optmizado.\n",
    "\n",
    "**CONCLUSIÓN:**\n",
    "\n",
    "En conclusión escogería el árbol de decisión optimizado si tuviera que quedarme con un modelo, sin embargo no me siento conforme con los datos obtenidos, ya que creo que el nivel de error es muy grande. \n",
    "\n",
    "Esto se puede deber a los outliers, datos repetidos que no fueron eliminados, o registros con información erronea y alejada de la realidad, lo cual puede llegar a distorsionar los resultados obtenidos."
   ]
  },
  {
   "cell_type": "markdown",
   "metadata": {
    "id": "qfjPej9BhcZ6"
   },
   "source": [
    "**10.** Ser crítico/a con la metodología utilizada. Por ejemplo, responde las siguientes preguntas: ¿Qué información no estás usando que podría ayudar al modelo?¿Qué información puede estar demás o repetida?"
   ]
  },
  {
   "cell_type": "markdown",
   "metadata": {
    "id": "EvWVUQYDsr0T"
   },
   "source": [
    "**¿Qué información no estás usando que podría ayudar al modelo?**\n",
    "\n",
    "Más que información, considero que existen otras formas más exactas para filtrar los datos, que no sea a criterio de la persona que realiza el modelo. Esto podría ayudar a obtener un modelo más ajustado con datos reales. "
   ]
  },
  {
   "cell_type": "markdown",
   "metadata": {
    "id": "3OeyJm2zwJUI"
   },
   "source": [
    "**¿Qué información puede estar demás o repetida?**\n",
    "En filtrados anteriores habiamos encontrado registros que se encontraban varias veces y solo cmabia una columna. Creo que todavía podriamos tener parte de estos registros, ya que no se hizo un analisis exhaustivo antes de comenzar a realizar el modelo."
   ]
  }
 ],
 "metadata": {
  "colab": {
   "collapsed_sections": [
    "erTz7ZM36n44",
    "6If7DNp2_IdY",
    "KsXjB0FV65ty",
    "unCNUU5W9SAN",
    "1JJs48gQ9s0R",
    "PmbKxA0j97bI"
   ],
   "name": "PROPERATY.ipynb",
   "provenance": []
  },
  "kernelspec": {
   "display_name": "Python 3",
   "language": "python",
   "name": "python3"
  },
  "language_info": {
   "codemirror_mode": {
    "name": "ipython",
    "version": 3
   },
   "file_extension": ".py",
   "mimetype": "text/x-python",
   "name": "python",
   "nbconvert_exporter": "python",
   "pygments_lexer": "ipython3",
   "version": "3.9.1"
  }
 },
 "nbformat": 4,
 "nbformat_minor": 1
}